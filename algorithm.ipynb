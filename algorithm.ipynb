{
  "nbformat": 4,
  "nbformat_minor": 0,
  "metadata": {
    "colab": {
      "name": "algorithm.ipynb",
      "provenance": [],
      "toc_visible": true
    },
    "kernelspec": {
      "name": "python3",
      "display_name": "Python 3"
    },
    "language_info": {
      "name": "python"
    }
  },
  "cells": [
    {
      "cell_type": "code",
      "metadata": {
        "colab": {
          "base_uri": "https://localhost:8080/"
        },
        "id": "C1_ZnlLheodG",
        "outputId": "23f51518-23e0-4c61-85ea-5e39e139ca0e"
      },
      "source": [
        "#question num:1\n",
        "\n",
        "def binary_search(A,k,B,C):\n",
        "  mid=int((B+C)//2)\n",
        "  if A[mid]==k:\n",
        "    print('k is found',k)\n",
        "  if A[mid]>k:\n",
        "    return binary_search(A,B,mid-1,k)\n",
        "  if A[mid]<k:\n",
        "    return binary_search(A,mid+1,C,k)\n",
        "  else :\n",
        "    print('k is not found')\n",
        "A=[1, 2, 7, 12, 28, 31, 40, 41, 42, 46, 59]\n",
        "k=5;B=0;C=len(A)-1\n",
        "binary_search(A,k,B,C)"
      ],
      "execution_count": 18,
      "outputs": [
        {
          "output_type": "stream",
          "name": "stdout",
          "text": [
            "k is found 1\n",
            "k is not found\n"
          ]
        }
      ]
    },
    {
      "cell_type": "code",
      "metadata": {
        "id": "XDceGQ2gHbZa"
      },
      "source": [
        ""
      ],
      "execution_count": null,
      "outputs": []
    },
    {
      "cell_type": "code",
      "metadata": {
        "colab": {
          "base_uri": "https://localhost:8080/"
        },
        "id": "bX_FJeu_cUGk",
        "outputId": "2470f295-3704-4437-b90d-7049903f45f1"
      },
      "source": [
        "#question 2\n",
        "def power(a,b):\n",
        "\tif b==0:\n",
        "\t\treturn 1\n",
        "\telif a==0:\n",
        "\t\treturn 0\n",
        "\telif b==1:\n",
        "\t\treturn a\n",
        "\telse:\n",
        "\t\treturn a*power(a,b-1)\n",
        "\n",
        "print(power(3,4))"
      ],
      "execution_count": null,
      "outputs": [
        {
          "output_type": "stream",
          "name": "stdout",
          "text": [
            "81\n"
          ]
        }
      ]
    },
    {
      "cell_type": "code",
      "metadata": {
        "colab": {
          "base_uri": "https://localhost:8080/"
        },
        "id": "SLYyDnmncX4R",
        "outputId": "09738fc9-6956-4f90-e605-ce552b56f07c"
      },
      "source": [
        "#question 3\n",
        "def bubbleSort(list):\n",
        "    for num in range(len(list)-1,0,-1):\n",
        "        for i in range(num):\n",
        "            if list[i]>list[i+1]:\n",
        "                temp = list[i]\n",
        "                list[i] = list[i+1]\n",
        "                list[i+1] = temp\n",
        "\n",
        "list = [29,13,22,37,52,49,46,71,56]\n",
        "bubbleSort(list)\n",
        "print(list)"
      ],
      "execution_count": null,
      "outputs": [
        {
          "output_type": "stream",
          "name": "stdout",
          "text": [
            "[13, 22, 29, 37, 46, 49, 52, 56, 71]\n"
          ]
        }
      ]
    },
    {
      "cell_type": "code",
      "metadata": {
        "id": "6Ar5nX1VdHGz",
        "colab": {
          "base_uri": "https://localhost:8080/"
        },
        "outputId": "8ef148df-7e2c-450a-dc42-3b46aeb15620"
      },
      "source": [
        "#question 4\n",
        "def mergeSort(myList):\n",
        "    if len(myList) > 1:\n",
        "        mid = len(myList) // 2\n",
        "        left = myList[:mid]\n",
        "        right = myList[mid:]\n",
        "\n",
        "        mergeSort(left)\n",
        "        mergeSort(right)\n",
        "\n",
        "        i = 0\n",
        "        j = 0\n",
        "        \n",
        "        k = 0\n",
        "        \n",
        "        while i < len(left) and j < len(right):\n",
        "            if left[i] < right[j]:\n",
        "              myList[k] = left[i]\n",
        "              i += 1\n",
        "            else:\n",
        "                myList[k] = right[j]\n",
        "                j += 1\n",
        "            k += 1\n",
        "\n",
        "        while i < len(left):\n",
        "            myList[k] = left[i]\n",
        "            i += 1\n",
        "            k += 1\n",
        "\n",
        "        while j < len(right):\n",
        "            myList[k]=right[j]\n",
        "            j += 1\n",
        "            k += 1\n",
        "\n",
        "myList = [29,13,22,37,52,49,46,71,56]\n",
        "mergeSort(myList)\n",
        "print(myList)"
      ],
      "execution_count": 20,
      "outputs": [
        {
          "output_type": "stream",
          "name": "stdout",
          "text": [
            "[13, 22, 29, 37, 46, 49, 52, 56, 71]\n"
          ]
        }
      ]
    },
    {
      "cell_type": "code",
      "metadata": {
        "colab": {
          "base_uri": "https://localhost:8080/"
        },
        "id": "ytYFDFzZTi_q",
        "outputId": "0729b92c-e921-4a67-bf1b-e6336d449012"
      },
      "source": [
        "#question n:5\n",
        "def partition(array, start, end):\n",
        "    pivot = array[start]\n",
        "    low = start + 1\n",
        "    high = end\n",
        "    while True:\n",
        "        while low <= high and array[high] >= pivot:\n",
        "            high = high - 1\n",
        "\n",
        "        while low <= high and array[low] <= pivot:\n",
        "            low = low + 1\n",
        "\n",
        "        if low <= high:\n",
        "            array[low], array[high] = array[high], array[low]\n",
        "        else:\n",
        "            break\n",
        "\n",
        "    array[start], array[high] = array[high], array[start]\n",
        "\n",
        "    return high\n",
        "def quick_sort(array, start, end):\n",
        "    if start >= end:\n",
        "        return\n",
        "\n",
        "    p = partition(array, start, end)\n",
        "    quick_sort(array, start, p-1)\n",
        "    quick_sort(array, p+1, end)\n",
        "\n",
        "array = [29,13,22,37,52,49,46,71,56]\n",
        "quick_sort(array, 0, len(array) - 1)\n",
        "print(array)\n"
      ],
      "execution_count": 22,
      "outputs": [
        {
          "output_type": "stream",
          "name": "stdout",
          "text": [
            "[13, 22, 29, 37, 46, 49, 52, 56, 71]\n"
          ]
        }
      ]
    }
  ]
}